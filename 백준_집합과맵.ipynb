{
 "cells": [
  {
   "cell_type": "code",
   "execution_count": null,
   "id": "9e01023f",
   "metadata": {},
   "outputs": [],
   "source": [
    "#1\n",
    "N = int(input())\n",
    "Narr=list(map(int, input().split()))\n",
    "M = int(input())\n",
    "Marr=list(map(int, input().split()))\n",
    "N_set=set(Narr)\n",
    "for i in range(M):\n",
    "    if Marr[i] in N_set:\n",
    "        Marr[i]=1\n",
    "    else:\n",
    "        Marr[i]=0\n",
    "\n",
    "for i in range(M):\n",
    "    print(Marr[i], end =' ')\n",
    "\n",
    "\n"
   ]
  },
  {
   "cell_type": "code",
   "execution_count": null,
   "id": "4873c3d8",
   "metadata": {},
   "outputs": [],
   "source": [
    "#2\n",
    "N, M = map(int ,input().split())\n",
    "S = []\n",
    "M_list = []\n",
    "for i in range(N):\n",
    "    a = input()\n",
    "    S.append(a)\n",
    "for i in range(M):\n",
    "    a = input()\n",
    "    M_list.append(a)    \n",
    "count = 0\n",
    "S_set = set(S)\n",
    "for i in M_list:\n",
    "    if i in S_set:\n",
    "        count+=1\n",
    "print(count)"
   ]
  },
  {
   "cell_type": "code",
   "execution_count": null,
   "id": "3d24a714",
   "metadata": {},
   "outputs": [],
   "source": [
    "#3\n",
    "N = int(input())\n",
    "arr=set()\n",
    "for i in range(N):\n",
    "    name, x = input().split()\n",
    "    if x == \"enter\":\n",
    "        arr.add(name)\n",
    "    else:\n",
    "        arr.remove(name)\n",
    "arr_list = list(arr)\n",
    "arr_list.sort(reverse = True)\n",
    "for i in range(len(arr_list)):\n",
    "    print(arr_list[i])"
   ]
  },
  {
   "cell_type": "code",
   "execution_count": null,
   "id": "aec92f93",
   "metadata": {},
   "outputs": [],
   "source": [
    "#4\n",
    "N, M = map(int, input().split())\n",
    "pok = []\n",
    "answer = []\n",
    "for i in range(N):\n",
    "    a = input()\n",
    "    pok.append(a)\n",
    "for i in range(M):\n",
    "    a = input()\n",
    "    try : \n",
    "        num = int(a)\n",
    "        print(pok[num-1])\n",
    "    except ValueError:\n",
    "        print(pok.index(a)+1)\n"
   ]
  },
  {
   "cell_type": "code",
   "execution_count": 1,
   "id": "fb230653",
   "metadata": {},
   "outputs": [
    {
     "ename": "ValueError",
     "evalue": "invalid literal for int() with base 10: '106 3 2 10 10 10 -10 -10 7 3810 9 -5 2 3 4 5 -10'",
     "output_type": "error",
     "traceback": [
      "\u001b[31m---------------------------------------------------------------------------\u001b[39m",
      "\u001b[31mValueError\u001b[39m                                Traceback (most recent call last)",
      "\u001b[36mCell\u001b[39m\u001b[36m \u001b[39m\u001b[32mIn[1]\u001b[39m\u001b[32m, line 2\u001b[39m\n\u001b[32m      1\u001b[39m \u001b[38;5;66;03m#\u001b[39;00m\n\u001b[32m----> \u001b[39m\u001b[32m2\u001b[39m N = \u001b[38;5;28;43mint\u001b[39;49m\u001b[43m(\u001b[49m\u001b[38;5;28;43minput\u001b[39;49m\u001b[43m(\u001b[49m\u001b[43m)\u001b[49m\u001b[43m)\u001b[49m\n\u001b[32m      3\u001b[39m Narr=\u001b[38;5;28mlist\u001b[39m(\u001b[38;5;28mmap\u001b[39m(\u001b[38;5;28mint\u001b[39m, \u001b[38;5;28minput\u001b[39m().split()))\n\u001b[32m      4\u001b[39m M = \u001b[38;5;28mint\u001b[39m(\u001b[38;5;28minput\u001b[39m())\n",
      "\u001b[31mValueError\u001b[39m: invalid literal for int() with base 10: '106 3 2 10 10 10 -10 -10 7 3810 9 -5 2 3 4 5 -10'"
     ]
    }
   ],
   "source": [
    "#5\n",
    "N = int(input())\n",
    "Narr=list(map(int, input().split()))\n",
    "M = int(input())\n",
    "Marr=list(map(int, input().split()))\n",
    "M_list = [0]*M\n",
    "M_set = set(Marr)\n",
    "for i in Narr:\n",
    "    if i in M_set:\n",
    "        M_list[Marr.index(i)]+=1\n",
    "for i in range(M):\n",
    "    print(M_list[i], end = ' ')\n",
    "\n",
    "\n"
   ]
  },
  {
   "cell_type": "code",
   "execution_count": null,
   "id": "e29629cc",
   "metadata": {},
   "outputs": [],
   "source": [
    "#6\n",
    "N, M = map(int, input().split())\n",
    "N_set = set()\n",
    "M_set = set()\n",
    "NM = []\n",
    "for i in range(N):\n",
    "    a = input()\n",
    "    N_set.add(a)\n",
    "for i in range(M):\n",
    "    a = input()\n",
    "    M_set.add(a)\n",
    "for i in N_set:\n",
    "    if i in M_set:\n",
    "        NM.append(i)\n",
    "NM.sort()\n",
    "print(len(NM))\n",
    "for i in NM:\n",
    "    print(i)"
   ]
  },
  {
   "cell_type": "code",
   "execution_count": null,
   "id": "ec803f82",
   "metadata": {},
   "outputs": [],
   "source": [
    "#7\n",
    "A, B = map(int, input().split())\n",
    "A_set = set(map(int, input().split()))\n",
    "B_set = set(map(int, input().split()))\n",
    "A_list = list(A_set)\n",
    "for i in A_list:\n",
    "    if i in B_set:\n",
    "        A_set.remove(i)\n",
    "        B_set.remove(i)\n",
    "print(len(A_set)+len(B_set))\n",
    "\n"
   ]
  },
  {
   "cell_type": "code",
   "execution_count": null,
   "id": "51a83665",
   "metadata": {},
   "outputs": [],
   "source": [
    "#8\n",
    "S = input()\n",
    "arr = []\n",
    "length = len(S)\n",
    "for i in range(length+1) :\n",
    "    j = 0 \n",
    "    while j + i < length:\n",
    "        arr.append(S[j:j+i+1])\n",
    "        j+=1\n",
    "print(len(set(arr)))"
   ]
  },
  {
   "cell_type": "code",
   "execution_count": null,
   "id": "369833e5",
   "metadata": {},
   "outputs": [],
   "source": []
  }
 ],
 "metadata": {
  "kernelspec": {
   "display_name": "Python 3",
   "language": "python",
   "name": "python3"
  },
  "language_info": {
   "codemirror_mode": {
    "name": "ipython",
    "version": 3
   },
   "file_extension": ".py",
   "mimetype": "text/x-python",
   "name": "python",
   "nbconvert_exporter": "python",
   "pygments_lexer": "ipython3",
   "version": "3.13.2"
  }
 },
 "nbformat": 4,
 "nbformat_minor": 5
}

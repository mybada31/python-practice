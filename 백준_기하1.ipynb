{
 "cells": [
  {
   "cell_type": "code",
   "execution_count": null,
   "id": "c288a870",
   "metadata": {},
   "outputs": [],
   "source": [
    "#1\n",
    "A = int(input())\n",
    "B = int(input())\n",
    "print(A*B)"
   ]
  },
  {
   "cell_type": "code",
   "execution_count": null,
   "id": "2642f8f1",
   "metadata": {},
   "outputs": [
    {
     "name": "stdout",
     "output_type": "stream",
     "text": [
      "1\n"
     ]
    }
   ],
   "source": [
    "#2\n",
    "x, y, w, h = map(int, input().split())\n",
    "L = [x, y, w-x, h-y]\n",
    "print(min(L))"
   ]
  },
  {
   "cell_type": "code",
   "execution_count": 16,
   "id": "853cf379",
   "metadata": {},
   "outputs": [
    {
     "name": "stdout",
     "output_type": "stream",
     "text": [
      "7 7\n"
     ]
    }
   ],
   "source": [
    "#3\n",
    "L = [[], []]\n",
    "x = 0\n",
    "y = 0\n",
    "for i in range(3):\n",
    "    a, b = map(int, input().split())\n",
    "    L[0].append(a)\n",
    "    L[1].append(b)\n",
    "L[0].sort()\n",
    "L[1].sort()\n",
    "if L[0][0]==L[0][1]:\n",
    "    x = L[0][2]\n",
    "else:\n",
    "    x = L[0][0]\n",
    "if L[1][0]==L[1][1]:\n",
    "    y = L[1][2]\n",
    "else:\n",
    "    y = L[1][0]\n",
    "print(f'{x} {y}')\n"
   ]
  },
  {
   "cell_type": "code",
   "execution_count": null,
   "id": "02ccbb2e",
   "metadata": {},
   "outputs": [],
   "source": [
    "#4\n",
    "n = int(input())\n",
    "print(n*4)"
   ]
  },
  {
   "cell_type": "code",
   "execution_count": 6,
   "id": "479208b0",
   "metadata": {},
   "outputs": [
    {
     "name": "stdout",
     "output_type": "stream",
     "text": [
      "360\n"
     ]
    }
   ],
   "source": [
    "#5\n",
    "N = int(input())\n",
    "L = [[], []]\n",
    "for i in range(N):\n",
    "    a, b = map(int, input().split())\n",
    "    L[0].append(a)\n",
    "    L[1].append(b)\n",
    "print((max(L[0])-min(L[0]))*(max(L[1])-min(L[1])))\n"
   ]
  },
  {
   "cell_type": "code",
   "execution_count": null,
   "id": "48bf49cc",
   "metadata": {},
   "outputs": [
    {
     "name": "stdout",
     "output_type": "stream",
     "text": [
      "Scalene\n"
     ]
    }
   ],
   "source": [
    "#6\n",
    "L = []\n",
    "for i in range(3):\n",
    "    L.append(int(input()))\n",
    "if sum(L) != 180:\n",
    "    print('Error')\n",
    "elif L[0]==L[1]==60:\n",
    "    print('Equilateral')\n",
    "elif L[0]==L[1] or L[0]==L[2] or L[1]==L[2]:\n",
    "    print('Isosceles')\n",
    "else:\n",
    "    print('Scalene')"
   ]
  },
  {
   "cell_type": "code",
   "execution_count": null,
   "id": "5ed0a16b",
   "metadata": {},
   "outputs": [
    {
     "name": "stdout",
     "output_type": "stream",
     "text": [
      "Equilateral\n",
      "Scalene\n",
      "Scalene\n",
      "Scalene\n",
      "Scalene\n"
     ]
    },
    {
     "ename": "KeyboardInterrupt",
     "evalue": "Interrupted by user",
     "output_type": "error",
     "traceback": [
      "\u001b[1;31m---------------------------------------------------------------------------\u001b[0m",
      "\u001b[1;31mKeyboardInterrupt\u001b[0m                         Traceback (most recent call last)",
      "Cell \u001b[1;32mIn[10], line 2\u001b[0m\n\u001b[0;32m      1\u001b[0m \u001b[38;5;28;01mwhile\u001b[39;00m \u001b[38;5;28;01mTrue\u001b[39;00m:\n\u001b[1;32m----> 2\u001b[0m     L \u001b[38;5;241m=\u001b[39m \u001b[38;5;28mlist\u001b[39m(\u001b[38;5;28mmap\u001b[39m(\u001b[38;5;28mint\u001b[39m, \u001b[38;5;28minput\u001b[39m()\u001b[38;5;241m.\u001b[39msplit()))\n\u001b[0;32m      3\u001b[0m     L\u001b[38;5;241m.\u001b[39msort\n\u001b[0;32m      4\u001b[0m     \u001b[38;5;28;01mif\u001b[39;00m \u001b[38;5;28msum\u001b[39m(L)\u001b[38;5;241m==\u001b[39m\u001b[38;5;241m0\u001b[39m:\n",
      "File \u001b[1;32mc:\\Users\\mybad\\anaconda3\\Lib\\site-packages\\ipykernel\\kernelbase.py:1262\u001b[0m, in \u001b[0;36mKernel.raw_input\u001b[1;34m(self, prompt)\u001b[0m\n\u001b[0;32m   1260\u001b[0m     msg \u001b[38;5;241m=\u001b[39m \u001b[38;5;124m\"\u001b[39m\u001b[38;5;124mraw_input was called, but this frontend does not support input requests.\u001b[39m\u001b[38;5;124m\"\u001b[39m\n\u001b[0;32m   1261\u001b[0m     \u001b[38;5;28;01mraise\u001b[39;00m StdinNotImplementedError(msg)\n\u001b[1;32m-> 1262\u001b[0m \u001b[38;5;28;01mreturn\u001b[39;00m \u001b[38;5;28mself\u001b[39m\u001b[38;5;241m.\u001b[39m_input_request(\n\u001b[0;32m   1263\u001b[0m     \u001b[38;5;28mstr\u001b[39m(prompt),\n\u001b[0;32m   1264\u001b[0m     \u001b[38;5;28mself\u001b[39m\u001b[38;5;241m.\u001b[39m_parent_ident[\u001b[38;5;124m\"\u001b[39m\u001b[38;5;124mshell\u001b[39m\u001b[38;5;124m\"\u001b[39m],\n\u001b[0;32m   1265\u001b[0m     \u001b[38;5;28mself\u001b[39m\u001b[38;5;241m.\u001b[39mget_parent(\u001b[38;5;124m\"\u001b[39m\u001b[38;5;124mshell\u001b[39m\u001b[38;5;124m\"\u001b[39m),\n\u001b[0;32m   1266\u001b[0m     password\u001b[38;5;241m=\u001b[39m\u001b[38;5;28;01mFalse\u001b[39;00m,\n\u001b[0;32m   1267\u001b[0m )\n",
      "File \u001b[1;32mc:\\Users\\mybad\\anaconda3\\Lib\\site-packages\\ipykernel\\kernelbase.py:1305\u001b[0m, in \u001b[0;36mKernel._input_request\u001b[1;34m(self, prompt, ident, parent, password)\u001b[0m\n\u001b[0;32m   1302\u001b[0m \u001b[38;5;28;01mexcept\u001b[39;00m \u001b[38;5;167;01mKeyboardInterrupt\u001b[39;00m:\n\u001b[0;32m   1303\u001b[0m     \u001b[38;5;66;03m# re-raise KeyboardInterrupt, to truncate traceback\u001b[39;00m\n\u001b[0;32m   1304\u001b[0m     msg \u001b[38;5;241m=\u001b[39m \u001b[38;5;124m\"\u001b[39m\u001b[38;5;124mInterrupted by user\u001b[39m\u001b[38;5;124m\"\u001b[39m\n\u001b[1;32m-> 1305\u001b[0m     \u001b[38;5;28;01mraise\u001b[39;00m \u001b[38;5;167;01mKeyboardInterrupt\u001b[39;00m(msg) \u001b[38;5;28;01mfrom\u001b[39;00m \u001b[38;5;28;01mNone\u001b[39;00m\n\u001b[0;32m   1306\u001b[0m \u001b[38;5;28;01mexcept\u001b[39;00m \u001b[38;5;167;01mException\u001b[39;00m:\n\u001b[0;32m   1307\u001b[0m     \u001b[38;5;28mself\u001b[39m\u001b[38;5;241m.\u001b[39mlog\u001b[38;5;241m.\u001b[39mwarning(\u001b[38;5;124m\"\u001b[39m\u001b[38;5;124mInvalid Message:\u001b[39m\u001b[38;5;124m\"\u001b[39m, exc_info\u001b[38;5;241m=\u001b[39m\u001b[38;5;28;01mTrue\u001b[39;00m)\n",
      "\u001b[1;31mKeyboardInterrupt\u001b[0m: Interrupted by user"
     ]
    }
   ],
   "source": [
    "#7\n",
    "while True:\n",
    "    L = list(map(int, input().split()))\n",
    "    L.sort\n",
    "    if sum(L)==0:\n",
    "        break\n",
    "    elif L[0]+L[1]<=L[2]:\n",
    "        print('Invalid')\n",
    "    elif len(set(L))==1:\n",
    "        print('Equilateral')\n",
    "    elif len(set(L))==2:\n",
    "        print('Isosceles')\n",
    "    else:\n",
    "        print('Scalene')\n"
   ]
  },
  {
   "cell_type": "code",
   "execution_count": 14,
   "id": "68cc4996",
   "metadata": {},
   "outputs": [
    {
     "name": "stdout",
     "output_type": "stream",
     "text": [
      "7\n"
     ]
    }
   ],
   "source": [
    "#8\n",
    "L = list(map(int, input().split()))\n",
    "L.sort()\n",
    "if L[0]+L[1]>L[2]:\n",
    "    print(sum(L))\n",
    "else:\n",
    "    while True:\n",
    "        L[2]-=1\n",
    "        L.sort()\n",
    "        if L[0]+L[1]>L[2]:\n",
    "            print(sum(L))\n",
    "            break\n",
    "        \n",
    "\n"
   ]
  }
 ],
 "metadata": {
  "kernelspec": {
   "display_name": "Python 3",
   "language": "python",
   "name": "python3"
  },
  "language_info": {
   "codemirror_mode": {
    "name": "ipython",
    "version": 3
   },
   "file_extension": ".py",
   "mimetype": "text/x-python",
   "name": "python",
   "nbconvert_exporter": "python",
   "pygments_lexer": "ipython3",
   "version": "3.13.2"
  }
 },
 "nbformat": 4,
 "nbformat_minor": 5
}

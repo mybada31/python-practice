{
 "cells": [
  {
   "cell_type": "code",
   "execution_count": null,
   "id": "6e0e16ff",
   "metadata": {},
   "outputs": [],
   "source": [
    "#1\n",
    "N = int(input())\n",
    "num=[]\n",
    "for i in range(N):\n",
    "    a = int(input())\n",
    "    num.append(a)\n",
    "num.sort()\n",
    "for i in range(N):\n",
    "    print(num[i])"
   ]
  },
  {
   "cell_type": "code",
   "execution_count": null,
   "id": "a744c872",
   "metadata": {},
   "outputs": [],
   "source": [
    "#2\n",
    "num = []\n",
    "for i in range(5):\n",
    "    a = int(input())\n",
    "    num.append(a)\n",
    "print(int(sum(num)/5))\n",
    "num.sort()\n",
    "print(num[2])"
   ]
  },
  {
   "cell_type": "code",
   "execution_count": null,
   "id": "63b112fc",
   "metadata": {},
   "outputs": [],
   "source": [
    "#3\n",
    "N, k = map(int, input().split())\n",
    "score = list(map(int, input().split()))\n",
    "score.sort(reverse = True)\n",
    "print(score[k-1])"
   ]
  },
  {
   "cell_type": "code",
   "execution_count": null,
   "id": "57192931",
   "metadata": {},
   "outputs": [],
   "source": [
    "#4\n",
    "N = int(input())\n",
    "num = []\n",
    "for i in range(N):\n",
    "    a = int(input())\n",
    "    num.append(a)\n",
    "num.sort()\n",
    "for i in range(N):\n",
    "    print(num[i])"
   ]
  },
  {
   "cell_type": "code",
   "execution_count": null,
   "id": "33b3f80c",
   "metadata": {},
   "outputs": [],
   "source": [
    "#6\n",
    "N = list(input())\n",
    "N.sort(reverse = True)\n",
    "for i in range(len(N)):\n",
    "    print(N[i], end = '')"
   ]
  },
  {
   "cell_type": "code",
   "execution_count": null,
   "id": "bc9f2569",
   "metadata": {},
   "outputs": [],
   "source": [
    "#7\n",
    "N = int(input())\n",
    "array = []\n",
    "for i in range(N):\n",
    "    x, y = map(int, input().split())\n",
    "    array.append([x,y])\n",
    "array.sort()\n",
    "for i in range(N):\n",
    "    print(array[i][0], array[i][1])"
   ]
  },
  {
   "cell_type": "code",
   "execution_count": null,
   "id": "81ee05a1",
   "metadata": {},
   "outputs": [],
   "source": [
    "#8\n",
    "N = int(input())\n",
    "array = []\n",
    "for i in range(N):\n",
    "    x, y = map(int, input().split())\n",
    "    array.append([y,x])\n",
    "array.sort()\n",
    "for i in range(N):\n",
    "    print(array[i][1], array[i][0])"
   ]
  },
  {
   "cell_type": "code",
   "execution_count": null,
   "id": "2b347cc6",
   "metadata": {},
   "outputs": [],
   "source": [
    "#9\n",
    "N = int(input())\n",
    "arr = []\n",
    "for i in range(N):\n",
    "    word = input()\n",
    "    wordlen = len(word)\n",
    "    if [wordlen, word] not in arr:\n",
    "        arr.append([wordlen,word])\n",
    "arr.sort()\n",
    "for i in range(len(arr)):\n",
    "    print(arr[i][1])"
   ]
  },
  {
   "cell_type": "code",
   "execution_count": null,
   "id": "f8879565",
   "metadata": {},
   "outputs": [],
   "source": [
    "#10\n",
    "N = int(input())\n",
    "infoage =[]\n",
    "infoname = []\n",
    "for i in range(N):\n",
    "    age, name = input().split()\n",
    "    infoage.append(int(age))\n",
    "    infoname.append(name)\n",
    "for i in range(N):\n",
    "    print(min(infoage), infoname[infoage.index(min(infoage))])\n",
    "    infoname.remove(infoname[infoage.index(min(infoage))])\n",
    "    infoage.remove(min(infoage))\n"
   ]
  },
  {
   "cell_type": "code",
   "execution_count": null,
   "id": "f9407e83",
   "metadata": {},
   "outputs": [],
   "source": [
    "#11\n",
    "N = int(input())\n",
    "x = list(map(int, input().split()))\n",
    "x_set = list(set(x))\n",
    "x_set.sort()\n",
    "arr =[]\n",
    "for i in x:\n",
    "    arr.append(x_set.index(i))\n",
    "for i in range(N):\n",
    "    print(arr[i], end=' ')"
   ]
  }
 ],
 "metadata": {
  "language_info": {
   "name": "python"
  }
 },
 "nbformat": 4,
 "nbformat_minor": 5
}

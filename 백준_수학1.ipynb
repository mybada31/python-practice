{
 "cells": [
  {
   "cell_type": "code",
   "execution_count": null,
   "id": "8ea67bb6",
   "metadata": {},
   "outputs": [],
   "source": [
    "#1\n",
    "N, B = input().split()\n",
    "BB = 1\n",
    "sum = 0\n",
    "for i in range(len(N)-1, -1, -1):\n",
    "    if N[i] in ['0', '1', '2', '3', '4', '5', '6', '7', '8', '9']:\n",
    "        sum+= BB*int(N[i])\n",
    "    else:\n",
    "        num = int(ord(N[i])-55)\n",
    "        sum+= BB*num\n",
    "    BB*= int(B)\n",
    "    \n",
    "print(sum)"
   ]
  },
  {
   "cell_type": "code",
   "execution_count": null,
   "id": "b21bbd29",
   "metadata": {},
   "outputs": [],
   "source": [
    "#2 \n",
    "N, B = map(int, input().split())\n",
    "i= 0\n",
    "num = []\n",
    "while N!=0:\n",
    "    if i==0:\n",
    "        if N%B>=10:\n",
    "            num.append(chr(N%B+55))  \n",
    "        else:\n",
    "            num.append(N%B)\n",
    "        N-=N%B\n",
    "    else:\n",
    "        number = int(N/B)\n",
    "        if number>=10:\n",
    "            num.append(chr(number+55))\n",
    "        else:\n",
    "            num.append(number)\n",
    "        N-= number*B\n",
    "    i+=1\n",
    "    B *= B\n",
    "    \n",
    "for i in range(len(num)-1, -1, -1):\n",
    "    print(num[i])"
   ]
  },
  {
   "cell_type": "code",
   "execution_count": null,
   "id": "d149935b",
   "metadata": {},
   "outputs": [],
   "source": [
    "#3\n",
    "T = int(input())\n",
    "for i in range(T):\n",
    "    C = int(input())\n",
    "    num = []\n",
    "    j=0\n",
    "    for i in [25, 10, 5, 1]:\n",
    "        num.append(int(C/i))\n",
    "        C-=num[j]*i\n",
    "        j+=1\n",
    "    for k in range(4):\n",
    "        print(num[k], end=' ')\n",
    "    print()"
   ]
  },
  {
   "cell_type": "code",
   "execution_count": null,
   "id": "36e63f81",
   "metadata": {},
   "outputs": [],
   "source": [
    "#6\n",
    "X = int(input())\n",
    "row = 1 \n",
    "num = 0\n",
    "while X > num:\n",
    "    num+=row\n",
    "    row+=1 \n",
    "if row%2==0:\n",
    "    print(f'{num+1-X}/{X-num+row-1}')\n",
    "else:\n",
    "    print(f'{X-num+row-1}/{num+1-X}')"
   ]
  },
  {
   "cell_type": "code",
   "execution_count": 5,
   "id": "af89877e",
   "metadata": {},
   "outputs": [
    {
     "ename": "KeyboardInterrupt",
     "evalue": "",
     "output_type": "error",
     "traceback": [
      "\u001b[1;31m---------------------------------------------------------------------------\u001b[0m",
      "\u001b[1;31mKeyboardInterrupt\u001b[0m                         Traceback (most recent call last)",
      "Cell \u001b[1;32mIn[5], line 5\u001b[0m\n\u001b[0;32m      3\u001b[0m total \u001b[38;5;241m=\u001b[39m \u001b[38;5;241m0\u001b[39m\n\u001b[0;32m      4\u001b[0m count \u001b[38;5;241m=\u001b[39m \u001b[38;5;241m0\u001b[39m\n\u001b[1;32m----> 5\u001b[0m \u001b[38;5;28;01mwhile\u001b[39;00m \u001b[38;5;28;01mTrue\u001b[39;00m:\n\u001b[0;32m      6\u001b[0m     total\u001b[38;5;241m+\u001b[39m\u001b[38;5;241m=\u001b[39mA\n\u001b[0;32m      7\u001b[0m     count\u001b[38;5;241m+\u001b[39m\u001b[38;5;241m=\u001b[39m\u001b[38;5;241m1\u001b[39m\n",
      "\u001b[1;31mKeyboardInterrupt\u001b[0m: "
     ]
    }
   ],
   "source": [
    "#7\n",
    "A, B, V = map(int, input().split())\n",
    "total = 0\n",
    "count = 0\n",
    "while True:\n",
    "    total+=A\n",
    "    count+=1\n",
    "    if total >= V :\n",
    "        break\n",
    "    total-=B\n",
    "print(count)"
   ]
  }
 ],
 "metadata": {
  "kernelspec": {
   "display_name": "base",
   "language": "python",
   "name": "python3"
  },
  "language_info": {
   "codemirror_mode": {
    "name": "ipython",
    "version": 3
   },
   "file_extension": ".py",
   "mimetype": "text/x-python",
   "name": "python",
   "nbconvert_exporter": "python",
   "pygments_lexer": "ipython3",
   "version": "3.12.7"
  }
 },
 "nbformat": 4,
 "nbformat_minor": 5
}

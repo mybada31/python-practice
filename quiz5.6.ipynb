{
 "cells": [
  {
   "cell_type": "code",
   "execution_count": 1,
   "id": "bf48fb75",
   "metadata": {},
   "outputs": [
    {
     "name": "stdout",
     "output_type": "stream",
     "text": [
      "안녕하세요안녕하세요\n"
     ]
    }
   ],
   "source": [
    "str = str(input(''))\n",
    "print(str*2)\n"
   ]
  },
  {
   "cell_type": "code",
   "execution_count": 2,
   "id": "01d3340a",
   "metadata": {},
   "outputs": [
    {
     "name": "stdout",
     "output_type": "stream",
     "text": [
      "40\n"
     ]
    }
   ],
   "source": [
    "num = int(input(\"숫자를 입력하세요:\"))\n",
    "print(num+10)"
   ]
  },
  {
   "cell_type": "code",
   "execution_count": 3,
   "id": "e428ecb4",
   "metadata": {},
   "outputs": [
    {
     "name": "stdout",
     "output_type": "stream",
     "text": [
      "짝수\n"
     ]
    }
   ],
   "source": [
    "num = int(input(\"숫자를 입력하세요:\"))\n",
    "if num%2==0:\n",
    "    print('짝수')\n",
    "else:\n",
    "    print('홀수')"
   ]
  },
  {
   "cell_type": "code",
   "execution_count": 4,
   "id": "41abb1ed",
   "metadata": {},
   "outputs": [
    {
     "name": "stdout",
     "output_type": "stream",
     "text": [
      "출력값: 220\n"
     ]
    }
   ],
   "source": [
    "num = int(input(\"입력값\"))\n",
    "if num+20>255:\n",
    "    print('출력값: 255')\n",
    "else:\n",
    "    print('출력값: {0}'.format(num+20))"
   ]
  },
  {
   "cell_type": "code",
   "execution_count": 5,
   "id": "d330034a",
   "metadata": {},
   "outputs": [
    {
     "name": "stdout",
     "output_type": "stream",
     "text": [
      "출력값: 180\n"
     ]
    }
   ],
   "source": [
    "num = int(input(\"입력값\"))\n",
    "if num-20>255:\n",
    "    print('출력값: 255')\n",
    "elif num<=20:\n",
    "    print('출력값: 0')\n",
    "else:\n",
    "    print('출력값: {0}'.format(num-20))"
   ]
  },
  {
   "cell_type": "code",
   "execution_count": 8,
   "id": "90ccf662",
   "metadata": {},
   "outputs": [
    {
     "name": "stdout",
     "output_type": "stream",
     "text": [
      "정답입니다.\n"
     ]
    }
   ],
   "source": [
    "fruit = [\"사과\", \"포도\", \"홍시\"]\n",
    "f= input('좋아하는 과일은? ')\n",
    "if f in fruit:\n",
    "    print('정답입니다.')\n",
    "else:\n",
    "    print('오답입니다')"
   ]
  },
  {
   "cell_type": "code",
   "execution_count": 9,
   "id": "f94143ff",
   "metadata": {},
   "outputs": [
    {
     "name": "stdout",
     "output_type": "stream",
     "text": [
      "투자 경고 종목입니다.\n"
     ]
    }
   ],
   "source": [
    "warn_investment_list = [\"Microsoft\", \"Google\", \"Naver\", \"Kakao\", \"SAMSUNG\", \"LG\"]\n",
    "종목명 = input('')\n",
    "if 종목명 in warn_investment_list:\n",
    "    print('투자 경고 종목입니다.')\n",
    "else:\n",
    "    print('투자 경고 종목이 아닙니다.')"
   ]
  },
  {
   "cell_type": "code",
   "execution_count": null,
   "id": "8e844758",
   "metadata": {},
   "outputs": [
    {
     "name": "stdout",
     "output_type": "stream",
     "text": [
      "정답입니다\n"
     ]
    }
   ],
   "source": [
    "fruit = {\"봄\" : \"딸기\", \"여름\" : \"토마토\", \"가을\" : \"사과\"}\n",
    "계절 = input('')\n",
    "if 계절 in fruit.keys():\n",
    "    print('정답입니다')\n",
    "else:\n",
    "    print('오답입니다.')"
   ]
  },
  {
   "cell_type": "code",
   "execution_count": null,
   "id": "9e7d58a2",
   "metadata": {},
   "outputs": [],
   "source": [
    "fruit = {\"봄\" : \"딸기\", \"여름\" : \"토마토\", \"가을\" : \"사과\"}\n",
    "과일 = input('')\n",
    "if 과일 in fruit.values():\n",
    "    print('정답입니다')\n",
    "else:\n",
    "    print('오답입니다.')"
   ]
  },
  {
   "cell_type": "code",
   "execution_count": null,
   "id": "7be1e233",
   "metadata": {},
   "outputs": [],
   "source": [
    "alphabet = input('')\n",
    "if "
   ]
  },
  {
   "cell_type": "code",
   "execution_count": 11,
   "id": "b7cab005",
   "metadata": {},
   "outputs": [
    {
     "name": "stdout",
     "output_type": "stream",
     "text": [
      "grade is D\n"
     ]
    }
   ],
   "source": [
    "score = int(input('score:'))\n",
    "if 80<score<=100:\n",
    "    print('grade is A')\n",
    "elif 60<score<=80:\n",
    "    print('grade is B')\n",
    "elif 40<score<=60:\n",
    "    print('grade is C')\n",
    "elif 20<score<=40:\n",
    "    print('grade is D')\n",
    "else:\n",
    "    print('grade is E')"
   ]
  },
  {
   "cell_type": "code",
   "execution_count": 15,
   "id": "2569a432",
   "metadata": {},
   "outputs": [
    {
     "name": "stdout",
     "output_type": "stream",
     "text": [
      "당신은 SKT 사용자입니다.\n"
     ]
    }
   ],
   "source": [
    "전화번호 = input('휴대전화 번호 입력:')\n",
    "if 전화번호[:3]=='011':\n",
    "    print('당신은 SKT 사용자입니다.')\n",
    "elif 전화번호[:3]=='016':\n",
    "    print('당신은 KT 사용자입니다.')\n",
    "elif 전화번호[:3]=='019':\n",
    "    print('당신은 LGU 사용자입니다.')\n",
    "elif 전화번호[:3]=='010':\n",
    "    print('알수없음')"
   ]
  },
  {
   "cell_type": "code",
   "execution_count": 18,
   "id": "4a362559",
   "metadata": {},
   "outputs": [
    {
     "name": "stdout",
     "output_type": "stream",
     "text": [
      "도봉구\n"
     ]
    }
   ],
   "source": [
    "우편번호 = input('우편번호:')\n",
    "num = int(우편번호[2])\n",
    "if 0<=num<3:\n",
    "    print('강북구')\n",
    "elif 3<=num<6:\n",
    "    print('도봉구')\n",
    "elif 6<=num<10:\n",
    "    print('노원구')"
   ]
  },
  {
   "cell_type": "code",
   "execution_count": 21,
   "id": "877b75e0",
   "metadata": {},
   "outputs": [
    {
     "name": "stdout",
     "output_type": "stream",
     "text": [
      "남자\n"
     ]
    }
   ],
   "source": [
    "주민등록번호 = input('주민등록번호:')\n",
    "성별 = int(주민등록번호[7])\n",
    "if 성별==3 or 성별==1:\n",
    "    print('남자')\n",
    "if 성별==4 or 성별==2:\n",
    "    print('여자')"
   ]
  },
  {
   "cell_type": "code",
   "execution_count": 22,
   "id": "db604a53",
   "metadata": {},
   "outputs": [
    {
     "name": "stdout",
     "output_type": "stream",
     "text": [
      "서울입니다.\n"
     ]
    }
   ],
   "source": [
    "주민등록번호 = input('주민등록번호:')\n",
    "지역 = int(주민등록번호[9])\n",
    "if 0<=지역<=8:\n",
    "    print('서울입니다.')\n",
    "else:\n",
    "    print('서울이 아닙니다.')"
   ]
  },
  {
   "cell_type": "code",
   "execution_count": null,
   "id": "fb5e8e30",
   "metadata": {},
   "outputs": [
    {
     "name": "stdout",
     "output_type": "stream",
     "text": [
      "유효하지 않은 주민등록번호입니다.\n"
     ]
    }
   ],
   "source": [
    "주민등록번호 = input('주민등록번호:')\n",
    "sum = 0\n",
    "for i in range(1,6):\n",
    "    sum+=int(주민등록번호[i-1])*(i+1)\n",
    "for i in range(8,):\n",
    "    sum+=int(주민등록번호[i-1])*(i+1)\n",
    "for i in range(10,15):\n",
    "    sum+=int(주민등록번호[i-1])*(i-8)\n",
    "if 11-sum%11==int(주민등록번호[13]):\n",
    "    print('유효한 주민등록번호입니다.')\n",
    "else:\n",
    "    print('유효하지 않은 주민등록번호입니다.')"
   ]
  },
  {
   "cell_type": "code",
   "execution_count": 26,
   "id": "c3abc2c5",
   "metadata": {},
   "outputs": [
    {
     "name": "stdout",
     "output_type": "stream",
     "text": [
      "상승장\n"
     ]
    }
   ],
   "source": [
    "import requests\n",
    "btc = requests.get(\"https://api.bithumb.com/public/ticker/\").json()['data']\n",
    "if btc['opening_price']>btc['min_price']:\n",
    "    print('상승장')\n",
    "else:\n",
    "    print('하락장')"
   ]
  },
  {
   "cell_type": "code",
   "execution_count": null,
   "id": "4bf1b921",
   "metadata": {},
   "outputs": [
    {
     "name": "stdout",
     "output_type": "stream",
     "text": [
      "출력: A\n",
      "출력: B\n",
      "출력: C\n"
     ]
    }
   ],
   "source": [
    "print(\"출력: A\")\n",
    "print(\"출력: B\")\n",
    "print(\"출력: C\")"
   ]
  },
  {
   "cell_type": "code",
   "execution_count": 29,
   "id": "c4bdfaa3",
   "metadata": {},
   "outputs": [
    {
     "name": "stdout",
     "output_type": "stream",
     "text": [
      "10\n",
      "20\n",
      "30\n"
     ]
    }
   ],
   "source": [
    "변수 = [10, 20, 30]\n",
    "for i in 변수:\n",
    "    print(i)"
   ]
  },
  {
   "cell_type": "code",
   "execution_count": 30,
   "id": "44a3f430",
   "metadata": {},
   "outputs": [
    {
     "name": "stdout",
     "output_type": "stream",
     "text": [
      "10\n",
      "-------\n",
      "20\n",
      "-------\n",
      "30\n",
      "-------\n"
     ]
    }
   ],
   "source": [
    "변수 = [10, 20, 30]\n",
    "for i in 변수:\n",
    "    print(i)\n",
    "    print(\"-------\")"
   ]
  },
  {
   "cell_type": "code",
   "execution_count": 33,
   "id": "29d47258",
   "metadata": {},
   "outputs": [
    {
     "name": "stdout",
     "output_type": "stream",
     "text": [
      "++++\n",
      "10\n",
      "20\n",
      "30\n"
     ]
    }
   ],
   "source": [
    "print(\"++++\")\n",
    "변수 = [10, 20, 30]\n",
    "for i in 변수:\n",
    "    print(i)"
   ]
  },
  {
   "cell_type": "code",
   "execution_count": 35,
   "id": "a0521e08",
   "metadata": {},
   "outputs": [
    {
     "name": "stdout",
     "output_type": "stream",
     "text": [
      "-------\n",
      "-------\n",
      "-------\n",
      "-------\n"
     ]
    }
   ],
   "source": [
    "for i in range(4):\n",
    "    print(\"-------\")"
   ]
  },
  {
   "cell_type": "code",
   "execution_count": 37,
   "id": "7cca4436",
   "metadata": {},
   "outputs": [
    {
     "name": "stdout",
     "output_type": "stream",
     "text": [
      "110\n",
      "210\n",
      "310\n"
     ]
    }
   ],
   "source": [
    "리스트 = [100, 200, 300]\n",
    "for i in 리스트:\n",
    "    print(i+10)"
   ]
  },
  {
   "cell_type": "code",
   "execution_count": 38,
   "id": "08baa859",
   "metadata": {},
   "outputs": [
    {
     "name": "stdout",
     "output_type": "stream",
     "text": [
      "오늘의 메뉴: 김밥\n",
      "오늘의 메뉴: 라면\n",
      "오늘의 메뉴: 튀김\n"
     ]
    }
   ],
   "source": [
    "리스트 = [\"김밥\", \"라면\", \"튀김\"]\n",
    "for i in 리스트:\n",
    "    print('오늘의 메뉴: {0}'.format(i))"
   ]
  },
  {
   "cell_type": "code",
   "execution_count": 39,
   "id": "af24c390",
   "metadata": {},
   "outputs": [
    {
     "name": "stdout",
     "output_type": "stream",
     "text": [
      "6\n",
      "4\n",
      "4\n"
     ]
    }
   ],
   "source": [
    "리스트 = [\"SK하이닉스\", \"삼성전자\", \"LG전자\"]\n",
    "for i in 리스트:\n",
    "    print(len(i))"
   ]
  },
  {
   "cell_type": "code",
   "execution_count": 40,
   "id": "572cd8a5",
   "metadata": {},
   "outputs": [
    {
     "name": "stdout",
     "output_type": "stream",
     "text": [
      "d\n",
      "c\n",
      "p\n"
     ]
    }
   ],
   "source": [
    "리스트 = ['dog', 'cat', 'parrot']\n",
    "for i in 리스트:\n",
    "    print(i[0])"
   ]
  },
  {
   "cell_type": "code",
   "execution_count": 41,
   "id": "ae41ea49",
   "metadata": {},
   "outputs": [
    {
     "name": "stdout",
     "output_type": "stream",
     "text": [
      "3 x 1 = 3\n",
      "3 x 2 = 6\n",
      "3 x 3 = 9\n"
     ]
    }
   ],
   "source": [
    "리스트 = [1, 2, 3]\n",
    "for i in 리스트:\n",
    "    print(\"3 x {0} = {1}\".format(i, i*3))"
   ]
  },
  {
   "cell_type": "code",
   "execution_count": null,
   "id": "80b8da0c",
   "metadata": {},
   "outputs": [
    {
     "name": "stdout",
     "output_type": "stream",
     "text": [
      "가\n",
      "다\n"
     ]
    }
   ],
   "source": [
    "리스트 = [\"가\", \"나\", \"다\", \"라\"]\n",
    "for i in range(len(리스트)):\n",
    "    if i%2==1:\n",
    "        print(리스트[i-1])"
   ]
  },
  {
   "cell_type": "code",
   "execution_count": 46,
   "id": "df4d5eb5",
   "metadata": {},
   "outputs": [
    {
     "name": "stdout",
     "output_type": "stream",
     "text": [
      "라\n",
      "다\n",
      "나\n",
      "가\n"
     ]
    }
   ],
   "source": [
    "리스트 = [\"가\", \"나\", \"다\", \"라\"]\n",
    "for i in range(len(리스트)):\n",
    "    print(리스트[3-i])"
   ]
  },
  {
   "cell_type": "code",
   "execution_count": 48,
   "id": "f280a4f6",
   "metadata": {},
   "outputs": [
    {
     "name": "stdout",
     "output_type": "stream",
     "text": [
      "-20\n",
      "-3\n"
     ]
    }
   ],
   "source": [
    "리스트 = [3, -20, -3, 44]\n",
    "for i in range(len(리스트)):\n",
    "    if 리스트[i]<0:\n",
    "        print(리스트[i])"
   ]
  },
  {
   "cell_type": "code",
   "execution_count": 49,
   "id": "9265003b",
   "metadata": {},
   "outputs": [
    {
     "name": "stdout",
     "output_type": "stream",
     "text": [
      "12\n",
      "18\n"
     ]
    }
   ],
   "source": [
    "리스트 = [13, 21, 12, 14, 30, 18]\n",
    "for i in range(len(리스트)):\n",
    "    if 리스트[i]<20 and 리스트[i]%3==0:\n",
    "        print(리스트[i])"
   ]
  },
  {
   "cell_type": "code",
   "execution_count": 51,
   "id": "2d7eb30c",
   "metadata": {},
   "outputs": [
    {
     "name": "stdout",
     "output_type": "stream",
     "text": [
      "study\n",
      "python\n",
      "language\n"
     ]
    }
   ],
   "source": [
    "리스트 = [\"I\", \"study\", \"python\", \"language\", \"!\"]\n",
    "for i in 리스트:\n",
    "    if len(i)>=3:\n",
    "        print(i)"
   ]
  },
  {
   "cell_type": "code",
   "execution_count": 53,
   "id": "50c83025",
   "metadata": {},
   "outputs": [
    {
     "name": "stdout",
     "output_type": "stream",
     "text": [
      "A\n",
      "D\n"
     ]
    }
   ],
   "source": [
    "리스트 = [\"A\", \"b\", \"c\", \"D\"]\n",
    "for i in 리스트:\n",
    "    if i.isupper():\n",
    "        print(i)"
   ]
  },
  {
   "cell_type": "code",
   "execution_count": 54,
   "id": "3651599a",
   "metadata": {},
   "outputs": [
    {
     "name": "stdout",
     "output_type": "stream",
     "text": [
      "b\n",
      "c\n"
     ]
    }
   ],
   "source": [
    "리스트 = [\"A\", \"b\", \"c\", \"D\"]\n",
    "for i in 리스트:\n",
    "    if i.isupper():\n",
    "        continue\n",
    "    else:\n",
    "        print(i)"
   ]
  },
  {
   "cell_type": "code",
   "execution_count": 55,
   "id": "f7fcee7f",
   "metadata": {},
   "outputs": [
    {
     "name": "stdout",
     "output_type": "stream",
     "text": [
      "Dog\n",
      "Cat\n",
      "Parrot\n"
     ]
    }
   ],
   "source": [
    "리스트 = ['dog', 'cat', 'parrot']\n",
    "for i in 리스트:\n",
    "    print(i[0].upper()+i[1:])"
   ]
  },
  {
   "cell_type": "code",
   "execution_count": 59,
   "id": "f8346dd6",
   "metadata": {},
   "outputs": [
    {
     "name": "stdout",
     "output_type": "stream",
     "text": [
      "hello\n",
      "ex01\n",
      "intro\n"
     ]
    }
   ],
   "source": [
    "리스트 = ['hello.py', 'ex01.py', 'intro.hwp']\n",
    "for i in 리스트:\n",
    "    print(i.split('.')[0])\n",
    "    "
   ]
  },
  {
   "cell_type": "code",
   "execution_count": 61,
   "id": "86a73328",
   "metadata": {},
   "outputs": [
    {
     "name": "stdout",
     "output_type": "stream",
     "text": [
      "intra.h\n",
      "intra.c\n",
      "define.h\n"
     ]
    }
   ],
   "source": [
    "리스트 = ['intra.h', 'intra.c', 'define.h', 'run.py']\n",
    "for i in 리스트:\n",
    "    if i.split('.')[1] == 'c' or i.split('.')[1] == 'h':\n",
    "        print(i)"
   ]
  },
  {
   "cell_type": "code",
   "execution_count": 62,
   "id": "6ee4f5f6",
   "metadata": {},
   "outputs": [
    {
     "name": "stdout",
     "output_type": "stream",
     "text": [
      "[2002, 2006, 2010, 2014, 2018, 2022, 2026, 2030, 2034, 2038, 2042, 2046, 2050]\n"
     ]
    }
   ],
   "source": [
    "print(list(range(2002,2051,4)))"
   ]
  },
  {
   "cell_type": "code",
   "execution_count": 65,
   "id": "8f10bbe2",
   "metadata": {},
   "outputs": [
    {
     "name": "stdout",
     "output_type": "stream",
     "text": [
      "3\n",
      "6\n",
      "9\n",
      "12\n",
      "15\n",
      "18\n",
      "21\n",
      "24\n",
      "27\n",
      "30\n"
     ]
    }
   ],
   "source": [
    "for i in range(1,31):\n",
    "    if i%3==0:\n",
    "        print(i)"
   ]
  },
  {
   "cell_type": "code",
   "execution_count": 66,
   "id": "f86c0b26",
   "metadata": {},
   "outputs": [
    {
     "name": "stdout",
     "output_type": "stream",
     "text": [
      "0.0\n",
      "0.1\n",
      "0.2\n",
      "0.3\n",
      "0.4\n",
      "0.5\n",
      "0.6\n",
      "0.7\n",
      "0.8\n",
      "0.9\n"
     ]
    }
   ],
   "source": [
    "for i in range(10):\n",
    "    print(float(i/10))"
   ]
  },
  {
   "cell_type": "code",
   "execution_count": 69,
   "id": "f164cd57",
   "metadata": {},
   "outputs": [
    {
     "name": "stdout",
     "output_type": "stream",
     "text": [
      "3x1 = 3\n",
      "3x3 = 9\n",
      "3x5 = 15\n",
      "3x7 = 21\n",
      "3x9 = 27\n"
     ]
    }
   ],
   "source": [
    "for i in range(1,10):\n",
    "    if i%2!=0:\n",
    "        print(\"3x{0} = {1}\".format(i, i*3))"
   ]
  },
  {
   "cell_type": "code",
   "execution_count": 70,
   "id": "2adea7df",
   "metadata": {},
   "outputs": [
    {
     "name": "stdout",
     "output_type": "stream",
     "text": [
      "55\n"
     ]
    }
   ],
   "source": [
    "sum = 0\n",
    "for i in range(11):\n",
    "    sum+=i\n",
    "print(sum)"
   ]
  },
  {
   "cell_type": "code",
   "execution_count": 72,
   "id": "c9525609",
   "metadata": {},
   "outputs": [
    {
     "name": "stdout",
     "output_type": "stream",
     "text": [
      "25\n"
     ]
    }
   ],
   "source": [
    "sum = 0\n",
    "for i in range(11):\n",
    "    if i%2!=0:\n",
    "        sum+=i\n",
    "print(sum)"
   ]
  },
  {
   "cell_type": "code",
   "execution_count": 75,
   "id": "28a0e291",
   "metadata": {},
   "outputs": [
    {
     "name": "stdout",
     "output_type": "stream",
     "text": [
      "3628800\n"
     ]
    }
   ],
   "source": [
    "sum = 1\n",
    "for i in range(1,11):\n",
    "    sum*=i\n",
    "print(sum)"
   ]
  },
  {
   "cell_type": "code",
   "execution_count": null,
   "id": "ee347ff5",
   "metadata": {},
   "outputs": [],
   "source": [
    "price_list = [32100, 32150, 32000, 32500]"
   ]
  },
  {
   "cell_type": "code",
   "execution_count": 77,
   "id": "cb3cb7ed",
   "metadata": {},
   "outputs": [
    {
     "name": "stdout",
     "output_type": "stream",
     "text": [
      "라다\n",
      "다나\n",
      "나가\n"
     ]
    }
   ],
   "source": [
    "my_list = [\"가\", \"나\", \"다\", \"라\"]\n",
    "for i in range(1,len(my_list)):\n",
    "    print(my_list[4-i]+my_list[3-i])"
   ]
  },
  {
   "cell_type": "code",
   "execution_count": 79,
   "id": "308b3d3e",
   "metadata": {},
   "outputs": [
    {
     "name": "stdout",
     "output_type": "stream",
     "text": [
      "100\n",
      "200\n",
      "400\n"
     ]
    }
   ],
   "source": [
    "my_list = [100, 200, 400, 800]\n",
    "for i in range(1,len(my_list)):\n",
    "    print(my_list[i]-my_list[i-1])"
   ]
  },
  {
   "cell_type": "code",
   "execution_count": 80,
   "id": "97c0c945",
   "metadata": {},
   "outputs": [
    {
     "name": "stdout",
     "output_type": "stream",
     "text": [
      "233.33333333333334\n",
      "466.6666666666667\n",
      "733.3333333333334\n",
      "1033.3333333333333\n"
     ]
    }
   ],
   "source": [
    "my_list = [100, 200, 400, 800, 1000, 1300]\n",
    "for i in range(1,len(my_list)-1):\n",
    "    total = my_list[i-1]+my_list[i]+my_list[i+1]\n",
    "    print(float(total/3))"
   ]
  },
  {
   "cell_type": "code",
   "execution_count": 85,
   "id": "35036868",
   "metadata": {},
   "outputs": [
    {
     "name": "stdout",
     "output_type": "stream",
     "text": [
      "[50, 100, 30, 80, 0]\n"
     ]
    }
   ],
   "source": [
    "low_prices  = [100, 200, 400, 800, 1000]\n",
    "high_prices = [150, 300, 430, 880, 1000]\n",
    "volatility = []\n",
    "for i in range(len(low_prices)):\n",
    "    volatility.append(high_prices[i]-low_prices[i])\n",
    "print(volatility)"
   ]
  },
  {
   "cell_type": "code",
   "execution_count": null,
   "id": "c7c47f52",
   "metadata": {},
   "outputs": [],
   "source": [
    "apart = [['101호', '102호'],['201호', '202호'],['301호', '302호']]"
   ]
  },
  {
   "cell_type": "code",
   "execution_count": null,
   "id": "fd013832",
   "metadata": {},
   "outputs": [],
   "source": [
    "stock = [[100,200,300], [80, 210, 330]]"
   ]
  },
  {
   "cell_type": "code",
   "execution_count": null,
   "id": "b94b79f5",
   "metadata": {},
   "outputs": [],
   "source": []
  },
  {
   "cell_type": "code",
   "execution_count": null,
   "id": "783a0e6f",
   "metadata": {},
   "outputs": [],
   "source": [
    "stock = ['10/10': [80,110,70,90], '10/11': [210, 230, 190, 200]]"
   ]
  },
  {
   "cell_type": "code",
   "execution_count": 89,
   "id": "959c5636",
   "metadata": {},
   "outputs": [
    {
     "name": "stdout",
     "output_type": "stream",
     "text": [
      "101호\n",
      "102호\n",
      "201호\n",
      "202호\n",
      "301호\n",
      "302호\n"
     ]
    }
   ],
   "source": [
    "apart = [ [101, 102], [201, 202], [301, 302] ]\n",
    "for i in range(len(apart)):\n",
    "    print('{0}호'.format(apart[i][0]))\n",
    "    print('{0}호'.format(apart[i][1]))"
   ]
  },
  {
   "cell_type": "code",
   "execution_count": 91,
   "id": "0f1b1d81",
   "metadata": {},
   "outputs": [
    {
     "name": "stdout",
     "output_type": "stream",
     "text": [
      "301호\n",
      "302호\n",
      "201호\n",
      "202호\n",
      "101호\n",
      "102호\n"
     ]
    }
   ],
   "source": [
    "apart = [ [101, 102], [201, 202], [301, 302] ]\n",
    "for i in range(len(apart)):\n",
    "    print('{0}호'.format(apart[2-i][0]))\n",
    "    print('{0}호'.format(apart[2-i][1]))"
   ]
  },
  {
   "cell_type": "code",
   "execution_count": 92,
   "id": "f8ecfdc5",
   "metadata": {},
   "outputs": [
    {
     "name": "stdout",
     "output_type": "stream",
     "text": [
      "302호\n",
      "301호\n",
      "202호\n",
      "201호\n",
      "102호\n",
      "101호\n"
     ]
    }
   ],
   "source": [
    "apart = [ [101, 102], [201, 202], [301, 302] ]\n",
    "for i in range(len(apart)):\n",
    "    print('{0}호'.format(apart[2-i][1]))\n",
    "    print('{0}호'.format(apart[2-i][0]))"
   ]
  },
  {
   "cell_type": "code",
   "execution_count": 95,
   "id": "da7d5fbf",
   "metadata": {},
   "outputs": [
    {
     "name": "stdout",
     "output_type": "stream",
     "text": [
      "101호\n",
      "-----\n",
      "102호\n",
      "-----\n",
      "201호\n",
      "-----\n",
      "202호\n",
      "-----\n",
      "301호\n",
      "-----\n",
      "302호\n",
      "-----\n"
     ]
    }
   ],
   "source": [
    "apart = [ [101, 102], [201, 202], [301, 302] ]\n",
    "for i in range(len(apart)):\n",
    "    print('{0}호'.format(apart[i][0]))\n",
    "    print('-----')\n",
    "    print('{0}호'.format(apart[i][1]))\n",
    "    print('-----')"
   ]
  },
  {
   "cell_type": "code",
   "execution_count": 96,
   "id": "0707885f",
   "metadata": {},
   "outputs": [
    {
     "name": "stdout",
     "output_type": "stream",
     "text": [
      "101호\n",
      "102호\n",
      "-----\n",
      "201호\n",
      "202호\n",
      "-----\n",
      "301호\n",
      "302호\n",
      "-----\n"
     ]
    }
   ],
   "source": [
    "apart = [ [101, 102], [201, 202], [301, 302] ]\n",
    "for i in range(len(apart)):\n",
    "    print('{0}호'.format(apart[i][0]))\n",
    "    \n",
    "    print('{0}호'.format(apart[i][1]))\n",
    "    print('-----')"
   ]
  },
  {
   "cell_type": "code",
   "execution_count": 98,
   "id": "e6ef6eda",
   "metadata": {},
   "outputs": [
    {
     "name": "stdout",
     "output_type": "stream",
     "text": [
      "101호\n",
      "102호\n",
      "201호\n",
      "202호\n",
      "301호\n",
      "302호\n",
      "-----\n"
     ]
    }
   ],
   "source": [
    "apart = [ [101, 102], [201, 202], [301, 302] ]\n",
    "for i in range(len(apart)):\n",
    "    print('{0}호'.format(apart[i][0]))\n",
    "    print('{0}호'.format(apart[i][1]))\n",
    "    if i == 2:\n",
    "        print('-----')"
   ]
  },
  {
   "cell_type": "code",
   "execution_count": 101,
   "id": "83faf9dc",
   "metadata": {},
   "outputs": [
    {
     "name": "stdout",
     "output_type": "stream",
     "text": [
      "2000.28\n",
      "3050.427\n",
      "2050.2870000000003\n",
      "1980.2772\n",
      "7501.05\n",
      "2050.2870000000003\n",
      "2050.2870000000003\n",
      "1980.2772\n",
      "15452.163\n",
      "15052.107\n",
      "15552.177\n",
      "14902.086000000001\n"
     ]
    }
   ],
   "source": [
    "data = [\n",
    "    [ 2000,  3050,  2050,  1980],\n",
    "    [ 7500,  2050,  2050,  1980],\n",
    "    [15450, 15050, 15550, 14900]\n",
    "]\n",
    "for i in range(len(data)):\n",
    "    print(data[i][0]*1.00014)\n",
    "    print(data[i][1]*1.00014)\n",
    "    print(data[i][2]*1.00014)\n",
    "    print(data[i][3]*1.00014)"
   ]
  },
  {
   "cell_type": "code",
   "execution_count": 102,
   "id": "6b8cdb7f",
   "metadata": {},
   "outputs": [
    {
     "name": "stdout",
     "output_type": "stream",
     "text": [
      "2000.28\n",
      "3050.427\n",
      "2050.2870000000003\n",
      "1980.2772\n",
      "----\n",
      "7501.05\n",
      "2050.2870000000003\n",
      "2050.2870000000003\n",
      "1980.2772\n",
      "----\n",
      "15452.163\n",
      "15052.107\n",
      "15552.177\n",
      "14902.086000000001\n",
      "----\n"
     ]
    }
   ],
   "source": [
    "data = [\n",
    "    [ 2000,  3050,  2050,  1980],\n",
    "    [ 7500,  2050,  2050,  1980],\n",
    "    [15450, 15050, 15550, 14900]\n",
    "]\n",
    "for i in range(len(data)):\n",
    "    print(data[i][0]*1.00014)\n",
    "    print(data[i][1]*1.00014)\n",
    "    print(data[i][2]*1.00014)\n",
    "    print(data[i][3]*1.00014)\n",
    "    print('----')"
   ]
  },
  {
   "cell_type": "code",
   "execution_count": null,
   "id": "5c56a9d2",
   "metadata": {},
   "outputs": [
    {
     "ename": "IndexError",
     "evalue": "list index out of range",
     "output_type": "error",
     "traceback": [
      "\u001b[1;31m---------------------------------------------------------------------------\u001b[0m",
      "\u001b[1;31mIndexError\u001b[0m                                Traceback (most recent call last)",
      "Cell \u001b[1;32mIn[106], line 8\u001b[0m\n\u001b[0;32m      6\u001b[0m result \u001b[38;5;241m=\u001b[39m[]\n\u001b[0;32m      7\u001b[0m \u001b[38;5;28;01mfor\u001b[39;00m i \u001b[38;5;129;01min\u001b[39;00m \u001b[38;5;28mrange\u001b[39m(\u001b[38;5;28mlen\u001b[39m(data)):\n\u001b[1;32m----> 8\u001b[0m     result[i]\u001b[38;5;241m.\u001b[39mappend(data[i][\u001b[38;5;241m0\u001b[39m]\u001b[38;5;241m*\u001b[39m\u001b[38;5;241m1.00014\u001b[39m)\n\u001b[0;32m      9\u001b[0m     result[i]\u001b[38;5;241m.\u001b[39mappend(data[i][\u001b[38;5;241m1\u001b[39m]\u001b[38;5;241m*\u001b[39m\u001b[38;5;241m1.00014\u001b[39m)\n\u001b[0;32m     10\u001b[0m     result[i]\u001b[38;5;241m.\u001b[39mappend(data[i][\u001b[38;5;241m2\u001b[39m]\u001b[38;5;241m*\u001b[39m\u001b[38;5;241m1.00014\u001b[39m)\n",
      "\u001b[1;31mIndexError\u001b[0m: list index out of range"
     ]
    }
   ],
   "source": [
    "data = [\n",
    "    [ 2000,  3050,  2050,  1980],\n",
    "    [ 7500,  2050,  2050,  1980],\n",
    "    [15450, 15050, 15550, 14900]\n",
    "]\n",
    "result =[]\n",
    "for i in range(len(data)):\n",
    "    result.append(data[i][0]*1.00014)\n",
    "    result.append(data[i][1]*1.00014)\n",
    "    result.append(data[i][2]*1.00014)\n",
    "    result.append(data[i][3]*1.00014)\n",
    "print(result)"
   ]
  },
  {
   "cell_type": "code",
   "execution_count": null,
   "id": "c9726659",
   "metadata": {},
   "outputs": [],
   "source": [
    "data = [\n",
    "    [ 2000,  3050,  2050,  1980],\n",
    "    [ 7500,  2050,  2050,  1980],\n",
    "    [15450, 15050, 15550, 14900]\n",
    "]\n",
    "result =[]\n",
    "for i in range(len(data)):\n",
    "    result.append(data[i][0]*1.00014)\n",
    "    result.append(data[i][1]*1.00014)\n",
    "    result.append(data[i][2]*1.00014)\n",
    "    result.append(data[i][3]*1.00014)\n",
    "print(result)"
   ]
  },
  {
   "cell_type": "code",
   "execution_count": 108,
   "id": "21c423e1",
   "metadata": {},
   "outputs": [
    {
     "name": "stdout",
     "output_type": "stream",
     "text": [
      "100\n",
      "190\n",
      "310\n"
     ]
    }
   ],
   "source": [
    "ohlc = [[\"open\", \"high\", \"low\", \"close\"],\n",
    "        [100, 110, 70, 100],\n",
    "        [200, 210, 180, 190],\n",
    "        [300, 310, 300, 310]]\n",
    "for i in range(len(ohlc)):\n",
    "    if i>0:\n",
    "        print(ohlc[i][3])"
   ]
  },
  {
   "cell_type": "code",
   "execution_count": 109,
   "id": "78540d3e",
   "metadata": {},
   "outputs": [
    {
     "name": "stdout",
     "output_type": "stream",
     "text": [
      "190\n",
      "310\n"
     ]
    }
   ],
   "source": [
    "ohlc = [[\"open\", \"high\", \"low\", \"close\"],\n",
    "        [100, 110, 70, 100],\n",
    "        [200, 210, 180, 190],\n",
    "        [300, 310, 300, 310]]\n",
    "for i in range(len(ohlc)):\n",
    "    if i>0 and ohlc[i][3]>150:\n",
    "        print(ohlc[i][3])"
   ]
  },
  {
   "cell_type": "code",
   "execution_count": 110,
   "id": "9bebccc6",
   "metadata": {},
   "outputs": [
    {
     "name": "stdout",
     "output_type": "stream",
     "text": [
      "100\n",
      "310\n"
     ]
    }
   ],
   "source": [
    "ohlc = [[\"open\", \"high\", \"low\", \"close\"],\n",
    "        [100, 110, 70, 100],\n",
    "        [200, 210, 180, 190],\n",
    "        [300, 310, 300, 310]]\n",
    "for i in range(len(ohlc)):\n",
    "    if i>0 and ohlc[i][3]>=ohlc[i][0]:\n",
    "        print(ohlc[i][3])"
   ]
  },
  {
   "cell_type": "code",
   "execution_count": 111,
   "id": "02635bf7",
   "metadata": {},
   "outputs": [
    {
     "name": "stdout",
     "output_type": "stream",
     "text": [
      "[40, 30, 10]\n"
     ]
    }
   ],
   "source": [
    "ohlc = [[\"open\", \"high\", \"low\", \"close\"],\n",
    "        [100, 110, 70, 100],\n",
    "        [200, 210, 180, 190],\n",
    "        [300, 310, 300, 310]]\n",
    "volatility = []\n",
    "for i in range(len(ohlc)):\n",
    "    if i>0:\n",
    "        volatility.append(ohlc[i][1]-ohlc[i][2])\n",
    "print(volatility)"
   ]
  },
  {
   "cell_type": "code",
   "execution_count": 113,
   "id": "5aa3fc25",
   "metadata": {},
   "outputs": [
    {
     "name": "stdout",
     "output_type": "stream",
     "text": [
      "10\n"
     ]
    }
   ],
   "source": [
    "ohlc = [[\"open\", \"high\", \"low\", \"close\"],\n",
    "        [100, 110, 70, 100],\n",
    "        [200, 210, 180, 190],\n",
    "        [300, 310, 300, 310]]\n",
    "for i in range(len(ohlc)):\n",
    "    if ohlc[i][3]>ohlc[i][0]:\n",
    "        print(ohlc[i][3]-ohlc[i][0])"
   ]
  },
  {
   "cell_type": "code",
   "execution_count": 116,
   "id": "e70e41f6",
   "metadata": {},
   "outputs": [
    {
     "name": "stdout",
     "output_type": "stream",
     "text": [
      "0\n"
     ]
    }
   ],
   "source": [
    "ohlc = [[\"open\", \"high\", \"low\", \"close\"],\n",
    "        [100, 110, 70, 100],\n",
    "        [200, 210, 180, 190],\n",
    "        [300, 310, 300, 310]]\n",
    "sum = 0\n",
    "for i in range(len(ohlc)):\n",
    "    if i>0:\n",
    "        sum+=ohlc[i][3]-ohlc[i][0]\n",
    "print(sum)"
   ]
  }
 ],
 "metadata": {
  "kernelspec": {
   "display_name": "base",
   "language": "python",
   "name": "python3"
  },
  "language_info": {
   "codemirror_mode": {
    "name": "ipython",
    "version": 3
   },
   "file_extension": ".py",
   "mimetype": "text/x-python",
   "name": "python",
   "nbconvert_exporter": "python",
   "pygments_lexer": "ipython3",
   "version": "3.12.7"
  }
 },
 "nbformat": 4,
 "nbformat_minor": 5
}

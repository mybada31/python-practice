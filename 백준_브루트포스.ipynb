{
 "cells": [
  {
   "cell_type": "code",
   "execution_count": null,
   "id": "87879114",
   "metadata": {},
   "outputs": [
    {
     "name": "stdout",
     "output_type": "stream",
     "text": [
      "[24, 23, 22, 22, 21, 21, 20, 20, 19, 18]\n",
      "21\n",
      "21\n",
      "21\n",
      "21\n"
     ]
    }
   ],
   "source": [
    "#1\n",
    "N, M = map(int, input().split())\n",
    "total=[]\n",
    "num= list(map(int, input().split()))\n",
    "for i in range(N-2):\n",
    "    for j in range(i+1, N-1):\n",
    "        for k in range(j+1, N):\n",
    "            total.append(num[i]+num[j]+num[k])\n",
    "total.sort(reverse=True)\n",
    "for i in total:\n",
    "    if i<=M:\n",
    "        print(i)\n",
    "        break\n",
    "\n",
    "\n",
    "    \n"
   ]
  },
  {
   "cell_type": "code",
   "execution_count": 15,
   "id": "b542ab71",
   "metadata": {},
   "outputs": [
    {
     "name": "stdout",
     "output_type": "stream",
     "text": [
      "198\n"
     ]
    }
   ],
   "source": [
    "#2\n",
    "N = int(input())\n",
    "answer = []\n",
    "for i in range(N):\n",
    "    total =0\n",
    "    for j in str(i):\n",
    "        total += int(j)\n",
    "    if total+i ==N:\n",
    "        answer.append(i)\n",
    "if not answer:\n",
    "    print('0')\n",
    "else:\n",
    "    print(answer[0])"
   ]
  },
  {
   "cell_type": "code",
   "execution_count": null,
   "id": "9b935f9a",
   "metadata": {},
   "outputs": [
    {
     "name": "stdout",
     "output_type": "stream",
     "text": [
      "2 -1\n"
     ]
    }
   ],
   "source": [
    "#3\n",
    "a, b, c, d, e, f = map(int, input().split())\n",
    "first = [a*e, b*e, c*e]\n",
    "second = [d*b, e*b, f*b] \n",
    "if(first[0]-second[0]!=0):\n",
    "    x = (first[2]-second[2])/(first[0]-second[0])\n",
    "    y = (c-a*x)/b\n",
    "    print(int(x), int(y))\n"
   ]
  },
  {
   "cell_type": "code",
   "execution_count": null,
   "id": "9b2a89b8",
   "metadata": {},
   "outputs": [],
   "source": [
    "#4\n",
    "N, M = map(int, input().split())\n"
   ]
  },
  {
   "cell_type": "code",
   "execution_count": null,
   "id": "3e2a0421",
   "metadata": {},
   "outputs": [],
   "source": [
    "#5\n",
    "N = int(input())\n",
    "i=666\n",
    "count = 0\n",
    "while True:\n",
    "    if '666' in str(i):\n",
    "        count += 1\n",
    "        if count==N:\n",
    "            print(i)\n",
    "            break\n",
    "    i+=1"
   ]
  },
  {
   "cell_type": "code",
   "execution_count": null,
   "id": "302763a6",
   "metadata": {},
   "outputs": [],
   "source": [
    "#6\n",
    "N = int(input())\n",
    "count3 = 0;\n",
    "count5 = 0;\n",
    "while N>=0:\n",
    "    if N%3==0:\n",
    "        count3 +=int(N/3)\n",
    "        break\n",
    "    else:\n",
    "        N-=5\n",
    "        count5+=1\n",
    "if N >= 0:\n",
    "    print(count3%5+int(count3/5)*3+count5)\n",
    "else:\n",
    "    print('-1')"
   ]
  }
 ],
 "metadata": {
  "kernelspec": {
   "display_name": "Python 3",
   "language": "python",
   "name": "python3"
  },
  "language_info": {
   "codemirror_mode": {
    "name": "ipython",
    "version": 3
   },
   "file_extension": ".py",
   "mimetype": "text/x-python",
   "name": "python",
   "nbconvert_exporter": "python",
   "pygments_lexer": "ipython3",
   "version": "3.13.2"
  }
 },
 "nbformat": 4,
 "nbformat_minor": 5
}

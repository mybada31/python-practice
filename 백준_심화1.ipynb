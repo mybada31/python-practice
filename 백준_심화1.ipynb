{
 "cells": [
  {
   "cell_type": "code",
   "execution_count": null,
   "id": "11414edc",
   "metadata": {},
   "outputs": [],
   "source": [
    "print('''         ,r'\"7\n",
    "r`-_   ,'  ,/\n",
    " \\\\. \". L_r'\n",
    "   `~\\\\/\n",
    "      |\n",
    "      |''')"
   ]
  },
  {
   "cell_type": "code",
   "execution_count": 11,
   "id": "6404e862",
   "metadata": {},
   "outputs": [
    {
     "name": "stdout",
     "output_type": "stream",
     "text": [
      "1 0 0 0 0 1 "
     ]
    }
   ],
   "source": [
    "피스 = {'킹':1, '퀸':1, '룩':2, '비숍':2, '나이트':2, '폰':8}\n",
    "num = list(map(int, input().split()))\n",
    "count = list(피스.values())\n",
    "for i in range(len(피스)):\n",
    "   count[i] -= num[i]\n",
    "for i in range(len(count)):\n",
    "   print(count[i], end =' ')"
   ]
  },
  {
   "cell_type": "code",
   "execution_count": 15,
   "id": "3f48180d",
   "metadata": {},
   "outputs": [
    {
     "name": "stdout",
     "output_type": "stream",
     "text": [
      "    *\n",
      "   ***\n",
      "  *****\n",
      " *******\n",
      "*********\n",
      " *******\n",
      "  *****\n",
      "   ***\n",
      "    *\n"
     ]
    }
   ],
   "source": [
    "num = int(input())\n",
    "for i in range(num):\n",
    "    print(' '*(num-1-i),end ='')\n",
    "    print('*'*((i+1)*2-1))\n",
    "for i in range(num-1):\n",
    "    print(' '*(i+1), end = '')\n",
    "    print('*'*((num-1-i)*2-1))\n"
   ]
  },
  {
   "cell_type": "code",
   "execution_count": 17,
   "id": "0fac1d36",
   "metadata": {},
   "outputs": [
    {
     "name": "stdout",
     "output_type": "stream",
     "text": [
      "1\n"
     ]
    }
   ],
   "source": [
    "word = input()\n",
    "print('1' if word[::-1] == word else '0')"
   ]
  },
  {
   "cell_type": "code",
   "execution_count": 25,
   "id": "4f53e998",
   "metadata": {},
   "outputs": [
    {
     "name": "stdout",
     "output_type": "stream",
     "text": [
      "A\n"
     ]
    }
   ],
   "source": [
    "word = input()\n",
    "word1 = word.upper()\n",
    "alphabet = [0]*26\n",
    "for i in range(len(word1)):\n",
    "    alphabet[ord(word1[i])-65]+=1\n",
    "num = 0\n",
    "sum = 0\n",
    "for i in range(26):\n",
    "    if alphabet [i] == max(alphabet):\n",
    "        sum+=1\n",
    "        num = i\n",
    "if sum!=1:\n",
    "    print('?')\n",
    "else:\n",
    "    print(chr(num+65))\n",
    "    \n"
   ]
  },
  {
   "cell_type": "code",
   "execution_count": null,
   "id": "e9bbd955",
   "metadata": {},
   "outputs": [
    {
     "name": "stdout",
     "output_type": "stream",
     "text": [
      "6\n"
     ]
    }
   ],
   "source": [
    "word = list(input())\n",
    "alphabet = 0\n",
    "for i in range(len(word)):\n",
    "    if word[i:i+2] == ['l', 'j'] or word[i:i+2] ==['n','j'] or word[i:i+3] == ['d','z','='] or word[i:i+2] == ['c','='] or word[i:i+2] ==['c','-'] or word[i:i+2] ==['s','='] or word[i:i+2]==['z','='] or word[i:i+2] == ['d', '='] or word[i:i+2]==['d','-']:\n",
    "        continue\n",
    "    else:\n",
    "        alphabet+=1\n",
    "print(alphabet)"
   ]
  },
  {
   "cell_type": "code",
   "execution_count": null,
   "id": "3cc9ee95",
   "metadata": {},
   "outputs": [
    {
     "name": "stdout",
     "output_type": "stream",
     "text": [
      "0\n"
     ]
    }
   ],
   "source": [
    "N = int(input())\n",
    "sum = 0\n",
    "for i in range(N):\n",
    "    word = input()\n",
    "    for i in range(len(word)):\n",
    "        if word[i] in word[:i] or word[i] in word[i+1:]:\n",
    "            continue\n",
    "        else:\n",
    "            sum+=1\n",
    "print(sum)"
   ]
  },
  {
   "cell_type": "code",
   "execution_count": 9,
   "id": "0100d884",
   "metadata": {},
   "outputs": [
    {
     "ename": "ValueError",
     "evalue": "not enough values to unpack (expected 3, got 0)",
     "output_type": "error",
     "traceback": [
      "\u001b[1;31m---------------------------------------------------------------------------\u001b[0m",
      "\u001b[1;31mValueError\u001b[0m                                Traceback (most recent call last)",
      "Cell \u001b[1;32mIn[9], line 5\u001b[0m\n\u001b[0;32m      3\u001b[0m n \u001b[38;5;241m=\u001b[39m \u001b[38;5;241m0\u001b[39m\n\u001b[0;32m      4\u001b[0m \u001b[38;5;28;01mfor\u001b[39;00m i \u001b[38;5;129;01min\u001b[39;00m \u001b[38;5;28mrange\u001b[39m(\u001b[38;5;241m20\u001b[39m):\n\u001b[1;32m----> 5\u001b[0m     name, num, grade \u001b[38;5;241m=\u001b[39m \u001b[38;5;28minput\u001b[39m()\u001b[38;5;241m.\u001b[39msplit()\n\u001b[0;32m      6\u001b[0m     \u001b[38;5;28;01mif\u001b[39;00m grade \u001b[38;5;129;01min\u001b[39;00m g\u001b[38;5;241m.\u001b[39mkeys():\n\u001b[0;32m      7\u001b[0m         total \u001b[38;5;241m+\u001b[39m\u001b[38;5;241m=\u001b[39m \u001b[38;5;28mfloat\u001b[39m(\u001b[38;5;28mfloat\u001b[39m(num)\u001b[38;5;241m*\u001b[39mg[grade])\n",
      "\u001b[1;31mValueError\u001b[0m: not enough values to unpack (expected 3, got 0)"
     ]
    }
   ],
   "source": [
    "g = {'A+' : 4.5, 'A0' : 4, 'B+':3.5, 'B0' : 3, 'C+' : 2.5, 'C0':2, 'D+':1.5, 'D0':1, 'F':0}\n",
    "total =0\n",
    "n = 0\n",
    "for i in range(20):\n",
    "    name, num, grade = input().split()\n",
    "    if grade in g.keys():\n",
    "        total += float(float(num)*g[grade])\n",
    "        n+=float(num)\n",
    "\n",
    "    else:\n",
    "        continue\n",
    "score = float(total/n)\n",
    "print(score)"
   ]
  }
 ],
 "metadata": {
  "kernelspec": {
   "display_name": "base",
   "language": "python",
   "name": "python3"
  },
  "language_info": {
   "codemirror_mode": {
    "name": "ipython",
    "version": 3
   },
   "file_extension": ".py",
   "mimetype": "text/x-python",
   "name": "python",
   "nbconvert_exporter": "python",
   "pygments_lexer": "ipython3",
   "version": "3.12.7"
  }
 },
 "nbformat": 4,
 "nbformat_minor": 5
}

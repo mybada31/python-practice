{
 "cells": [
  {
   "cell_type": "code",
   "execution_count": null,
   "id": "2e04416e",
   "metadata": {},
   "outputs": [],
   "source": [
    "S = input()\n",
    "i = int(input())\n",
    "print(S[i-1])"
   ]
  },
  {
   "cell_type": "code",
   "execution_count": null,
   "id": "72c168b6",
   "metadata": {},
   "outputs": [],
   "source": [
    "string = input()\n",
    "print(len(string))"
   ]
  },
  {
   "cell_type": "code",
   "execution_count": null,
   "id": "a100d513",
   "metadata": {},
   "outputs": [],
   "source": [
    "T = int(input())\n",
    "for i in range(T):\n",
    "    string = input()\n",
    "    print(string[0]+string[len(string)-1])"
   ]
  },
  {
   "cell_type": "code",
   "execution_count": 2,
   "id": "d77bd30b",
   "metadata": {},
   "outputs": [
    {
     "name": "stdout",
     "output_type": "stream",
     "text": [
      "65\n"
     ]
    }
   ],
   "source": [
    "word = input()\n",
    "print(ord(word))"
   ]
  },
  {
   "cell_type": "code",
   "execution_count": null,
   "id": "fd0f991c",
   "metadata": {},
   "outputs": [],
   "source": [
    "N = int(input())\n",
    "num = input()\n",
    "sum = 0\n",
    "for i in range(N):\n",
    "    sum+=int(str(num)[i])\n",
    "print(sum)"
   ]
  },
  {
   "cell_type": "code",
   "execution_count": null,
   "id": "bb59d538",
   "metadata": {},
   "outputs": [],
   "source": [
    "S = input()\n",
    "L = [-1]*26\n",
    "for i in range(len(S)):\n",
    "    if L[ord(S[i])-97]==-1:\n",
    "        L[ord(S[i])-97]+=i+1\n",
    "    \n",
    "for i in range(26):\n",
    "    print(L[i], end =' ')"
   ]
  },
  {
   "cell_type": "code",
   "execution_count": null,
   "id": "55697736",
   "metadata": {},
   "outputs": [
    {
     "ename": "ValueError",
     "evalue": "invalid literal for int() with base 10: ''",
     "output_type": "error",
     "traceback": [
      "\u001b[1;31m---------------------------------------------------------------------------\u001b[0m",
      "\u001b[1;31mValueError\u001b[0m                                Traceback (most recent call last)",
      "Cell \u001b[1;32mIn[4], line 1\u001b[0m\n\u001b[1;32m----> 1\u001b[0m T\u001b[38;5;241m=\u001b[39m \u001b[38;5;28mint\u001b[39m(\u001b[38;5;28minput\u001b[39m())\n\u001b[0;32m      2\u001b[0m \u001b[38;5;28;01mfor\u001b[39;00m i \u001b[38;5;129;01min\u001b[39;00m \u001b[38;5;28mrange\u001b[39m(T):\n\u001b[0;32m      3\u001b[0m     a, b \u001b[38;5;241m=\u001b[39m \u001b[38;5;28minput\u001b[39m()\u001b[38;5;241m.\u001b[39msplit()\n",
      "\u001b[1;31mValueError\u001b[0m: invalid literal for int() with base 10: ''"
     ]
    }
   ],
   "source": [
    "T= int(input())\n",
    "for i in range(T):\n",
    "    a, b = input().split()\n",
    "    for j in range(len(b)):\n",
    "        print(b[j]*int(a), end ='')"
   ]
  },
  {
   "cell_type": "code",
   "execution_count": null,
   "id": "179e4975",
   "metadata": {},
   "outputs": [],
   "source": [
    "sentence = list(input().split())\n",
    "print(len(sentence))"
   ]
  },
  {
   "cell_type": "code",
   "execution_count": null,
   "id": "dae02fc8",
   "metadata": {},
   "outputs": [],
   "source": [
    "A, B = input().split()\n",
    "\n",
    "A= A[::-1]\n",
    "B= B[::-1]\n",
    "if int(A)>int(B):\n",
    "    print(A)\n",
    "else:\n",
    "    print(B)"
   ]
  },
  {
   "cell_type": "code",
   "execution_count": null,
   "id": "edbb1198",
   "metadata": {},
   "outputs": [],
   "source": [
    "time = [3,4,5,6,7,8,9,10]\n",
    "alphabet = input()\n",
    "total = 0\n",
    "al = [['A','B','C'],['D','E','F'],['G','H','I'],['J','K','L'],['M','N','O'],['P','Q','R','S'],['T','U','V'],['W','X','Y','Z']]\n",
    "for i in alphabet:  \n",
    "    for j in range(len(al)):\n",
    "        if i in al[j]:\n",
    "            total+=time[j]\n",
    "print(total)"
   ]
  },
  {
   "cell_type": "code",
   "execution_count": null,
   "id": "aa743ee9",
   "metadata": {},
   "outputs": [],
   "source": [
    "while True:\n",
    "    try:\n",
    "        word = input()\n",
    "        print(word)\n",
    "    except EOFError:\n",
    "        break"
   ]
  }
 ],
 "metadata": {
  "kernelspec": {
   "display_name": "base",
   "language": "python",
   "name": "python3"
  },
  "language_info": {
   "codemirror_mode": {
    "name": "ipython",
    "version": 3
   },
   "file_extension": ".py",
   "mimetype": "text/x-python",
   "name": "python",
   "nbconvert_exporter": "python",
   "pygments_lexer": "ipython3",
   "version": "3.12.7"
  }
 },
 "nbformat": 4,
 "nbformat_minor": 5
}

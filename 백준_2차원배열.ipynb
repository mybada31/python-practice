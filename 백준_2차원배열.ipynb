{
 "cells": [
  {
   "cell_type": "code",
   "execution_count": null,
   "id": "e059df2d",
   "metadata": {},
   "outputs": [],
   "source": [
    "N, M = map(int, input().split())\n",
    "num= []\n",
    "for i in range(2*N):\n",
    "    num.append(list(map(int, input().split())))\n",
    "\n",
    "for i in range(N):\n",
    "    for j in range(M):\n",
    "        num[i][j]+=num[i+N][j]\n",
    "for i in range(N):\n",
    "    for j in range(M):\n",
    "        print(num[i][j], end =' ')\n",
    "    print('')"
   ]
  },
  {
   "cell_type": "code",
   "execution_count": null,
   "id": "098b34f2",
   "metadata": {},
   "outputs": [],
   "source": [
    "num = []\n",
    "for i in range(9):\n",
    "    num.append(list(map(int, input().split())))\n",
    "m = 0\n",
    "a=0\n",
    "b = 0\n",
    "for i in range(9):\n",
    "    if max(num[i])>m:\n",
    "        m=max(num[i])\n",
    "        a= i\n",
    "print(m)\n",
    "print(a+1, num[a].index(m)+1)"
   ]
  },
  {
   "cell_type": "code",
   "execution_count": 1,
   "id": "e24b2468",
   "metadata": {},
   "outputs": [],
   "source": [
    "L = []\n",
    "for i in range(5):\n",
    "    L.append(list(input()))\n",
    "#print(L)\n",
    "for i in range(15):\n",
    "    for j in range(5):\n",
    "        if len(L[j])>=i+1:\n",
    "            print(L[j][i],end='')\n",
    "        else:\n",
    "            continue"
   ]
  },
  {
   "cell_type": "code",
   "execution_count": null,
   "id": "a9b74183",
   "metadata": {},
   "outputs": [
    {
     "name": "stdout",
     "output_type": "stream",
     "text": [
      "2300\n"
     ]
    }
   ],
   "source": [
    "N = int(input())\n",
    "L=[[0]*100]*100 #색종이좌표를 2차원배열로 표현\n",
    "count = 0\n",
    "\n",
    "for i in range(N):\n",
    "    a, b = map(int, input().split())\n",
    "    for j in range(a, a+11):\n",
    "        for k in range(b, b+11):\n",
    "            L[j][k]=1\n",
    "#print(L)\n",
    "for j in range(100):\n",
    "    for k in range(100):\n",
    "        if L[k][j]==1:\n",
    "            count+=1\n",
    "print(count)\n",
    "\n"
   ]
  }
 ],
 "metadata": {
  "kernelspec": {
   "display_name": "base",
   "language": "python",
   "name": "python3"
  },
  "language_info": {
   "codemirror_mode": {
    "name": "ipython",
    "version": 3
   },
   "file_extension": ".py",
   "mimetype": "text/x-python",
   "name": "python",
   "nbconvert_exporter": "python",
   "pygments_lexer": "ipython3",
   "version": "3.12.7"
  }
 },
 "nbformat": 4,
 "nbformat_minor": 5
}
